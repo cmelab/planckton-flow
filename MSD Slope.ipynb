{
 "cells": [
  {
   "cell_type": "code",
   "execution_count": 73,
   "id": "4e2a1c70",
   "metadata": {},
   "outputs": [],
   "source": [
    "import numpy as np\n",
    "from scipy import stats\n",
    "from scipy.stats import linregress\n",
    "import signac"
   ]
  },
  {
   "cell_type": "code",
   "execution_count": 83,
   "id": "83a8d695",
   "metadata": {},
   "outputs": [
    {
     "name": "stdout",
     "output_type": "stream",
     "text": [
      "[1.58951200e-06 6.71458754e+00 1.00293898e+01 1.18212531e+01\n",
      " 1.34210012e+01 1.44867355e+01 1.49581860e+01 1.48303625e+01\n",
      " 1.50486410e+01 1.56986783e+01 1.49730919e+01 1.42757059e+01\n",
      " 1.53562635e+01 1.55111680e+01 1.61865577e+01 1.62463325e+01\n",
      " 1.62983420e+01 1.65120831e+01 1.74408645e+01 1.82804600e+01\n",
      " 1.96991959e+01 2.04142554e+01 2.03967220e+01 2.15725467e+01\n",
      " 2.21366175e+01 2.41845409e+01 2.62979495e+01 2.74421669e+01\n",
      " 2.99254307e+01]\n"
     ]
    }
   ],
   "source": [
    "msd = np.load('workspace/dd69655837dbaf61d05774a4c1bb59c8/msd/msd_npy_files/c.npy')\n",
    "print(msd)\n",
    "state_dict = {\n",
    "            \"n_compounds\": 50\n",
    "            }\n",
    "project = signac.get_project(\"IEICO_lib\")\n",
    "job_list = project.find_jobs(state_dict)"
   ]
  },
  {
   "cell_type": "code",
   "execution_count": 84,
   "id": "33b4f248",
   "metadata": {},
   "outputs": [
    {
     "name": "stdout",
     "output_type": "stream",
     "text": [
      "[0, 1, 2, 3, 4, 5, 6, 7, 8, 9, 10, 11, 12, 13, 14, 15, 16, 17, 18, 19, 20, 21, 22, 23, 24, 25, 26, 27, 28]\n"
     ]
    }
   ],
   "source": [
    "xl = len(msd)\n",
    "x = list(range(xl))\n",
    "print(x)"
   ]
  },
  {
   "cell_type": "code",
   "execution_count": 85,
   "id": "f540771f",
   "metadata": {},
   "outputs": [
    {
     "name": "stdout",
     "output_type": "stream",
     "text": [
      "[1.58951200e-06 6.71458754e+00 1.00293898e+01 1.18212531e+01\n",
      " 1.34210012e+01 1.44867355e+01 1.49581860e+01 1.48303625e+01\n",
      " 1.50486410e+01 1.56986783e+01 1.49730919e+01 1.42757059e+01\n",
      " 1.53562635e+01 1.55111680e+01 1.61865577e+01 1.62463325e+01\n",
      " 1.62983420e+01 1.65120831e+01 1.74408645e+01 1.82804600e+01\n",
      " 1.96991959e+01 2.04142554e+01 2.03967220e+01 2.15725467e+01\n",
      " 2.21366175e+01 2.41845409e+01 2.62979495e+01 2.74421669e+01\n",
      " 2.99254307e+01]\n"
     ]
    }
   ],
   "source": [
    "y = msd\n",
    "len(y)\n",
    "print(y)"
   ]
  },
  {
   "cell_type": "code",
   "execution_count": 89,
   "id": "995bca5c",
   "metadata": {},
   "outputs": [
    {
     "name": "stdout",
     "output_type": "stream",
     "text": [
      "0.6468813814491092\n",
      "LinregressResult(slope=0.6468813814491092, intercept=7.845699661424501, rvalue=0.9145514929863351, pvalue=4.0184678914243055e-12, stderr=0.05505799240268124, intercept_stderr=0.8979686811309432)\n"
     ]
    }
   ],
   "source": [
    "for job in job_list:\n",
    "    slope = stats.linregress(x,y)\n",
    "    print(slope.slope)\n",
    "    print(slope)\n",
    "    job.doc['msd_slopeslope'] = slope.slope"
   ]
  },
  {
   "cell_type": "code",
   "execution_count": 90,
   "id": "1496e08c",
   "metadata": {},
   "outputs": [
    {
     "name": "stdout",
     "output_type": "stream",
     "text": [
      "{'steps': 1000000.0, 'T_SI': [125.80492508598886, 'K'], 'real_timestep': [0.19728961554583213, 'fs'], 'ref_mass': [5.323687780725999e-26, 'kg'], 'ref_distance': [3.563594872561358, 'Å'], 'ref_energy': [0.25, 'kcal/mol'], 'average_TPS': '3796.81', 'total_time': '00:04:26', 'msd_slope': [0.6468813814491092, 7.845699661424501, 0.9145514929863351, 4.0184678914243055e-12, 0.05505799240268124], 'msd_slopeslope': 0.6468813814491092}\n"
     ]
    }
   ],
   "source": [
    "print(job.doc)"
   ]
  },
  {
   "cell_type": "code",
   "execution_count": null,
   "id": "3c1ba0be",
   "metadata": {},
   "outputs": [],
   "source": []
  }
 ],
 "metadata": {
  "kernelspec": {
   "display_name": "Python 3",
   "language": "python",
   "name": "python3"
  },
  "language_info": {
   "codemirror_mode": {
    "name": "ipython",
    "version": 3
   },
   "file_extension": ".py",
   "mimetype": "text/x-python",
   "name": "python",
   "nbconvert_exporter": "python",
   "pygments_lexer": "ipython3",
   "version": "3.7.10"
  }
 },
 "nbformat": 4,
 "nbformat_minor": 5
}
